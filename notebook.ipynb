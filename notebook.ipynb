{
 "cells": [
  {
   "cell_type": "markdown",
   "metadata": {},
   "source": [
    "## Movies Recommendation System\n",
    "&nbsp;\n",
    "### Based on Content Filtering "
   ]
  },
  {
   "cell_type": "code",
   "execution_count": null,
   "metadata": {},
   "outputs": [],
   "source": [
    "# importing libraries \n",
    "import pandas as pd\n",
    "import numpy as np"
   ]
  },
  {
   "cell_type": "code",
   "execution_count": null,
   "metadata": {},
   "outputs": [],
   "source": [
    "# importing user data from the zip file\n",
    "user_cols = ['user_id','age','sex','occupation','zip_code']\n",
    "users = pd.read_csv('ml-100k/u.user', sep='|', names = user_cols, encoding = 'latin-1')\n",
    "\n",
    "# importing movie ratings from the zip file\n",
    "ratings_cols = ['user_id','movie_id','rating','unix_timestamp']\n",
    "ratings = pd.read_csv('ml-100k/u.data', sep='\\t', names = ratings_cols, encoding = 'latin-1')\n",
    "\n",
    "# importing movies data from the zip file\n",
    "movies_cols = ['movie_id','title','release_date','video_release_date','imdb_url']\n",
    "movies = pd.read_csv('ml-100k/u.item', sep='|', names = movies_cols,usecols = range(5),\n",
    "                     encoding = 'latin-1')"
   ]
  },
  {
   "cell_type": "code",
   "execution_count": null,
   "metadata": {},
   "outputs": [],
   "source": [
    "# importing genre dataset \n",
    "genres_list = ['unknown','Action','Adventure','Animation','Children','Comedy','Crime',\n",
    "               'Documentary','Drama','Fantasy','Film-Noir','Horror','Musical','Mystery',\n",
    "               'Romance','Sci-Fi','Thriller','War','Western']\n",
    "genre = pd.read_csv('ml-100k/u.item', sep='|',names = genres_list,usecols = range(5,24),encoding = 'latin-1')"
   ]
  },
  {
   "cell_type": "code",
   "execution_count": null,
   "metadata": {},
   "outputs": [],
   "source": [
    "# dropping redundant columns\n",
    "movies.drop(['video_release_date','imdb_url'],inplace=True,axis = 1)\n",
    "ratings.drop('unix_timestamp',axis = 1,inplace=True)"
   ]
  },
  {
   "cell_type": "code",
   "execution_count": null,
   "metadata": {},
   "outputs": [],
   "source": [
    "# merge all the dataset into one whole dataset\n",
    "dataset = pd.merge(pd.merge(movies, ratings),users)"
   ]
  },
  {
   "cell_type": "code",
   "execution_count": null,
   "metadata": {},
   "outputs": [],
   "source": [
    "# top 20 most rated movies\n",
    "dataset[['title','rating']].sort_values('rating', ascending=False).head(20)"
   ]
  },
  {
   "cell_type": "code",
   "execution_count": null,
   "metadata": {},
   "outputs": [],
   "source": [
    "# Totol movies in terms of genre\n",
    "genre.sum().sort_values(ascending=False)"
   ]
  },
  {
   "cell_type": "code",
   "execution_count": null,
   "metadata": {},
   "outputs": [],
   "source": [
    "# Applying Cosine Similarity on genre dataset since it is already in sparse matrix form\n",
    "from sklearn.metrics.pairwise import cosine_similarity\n",
    "cosine_sim = cosine_similarity(genre)"
   ]
  },
  {
   "cell_type": "code",
   "execution_count": null,
   "metadata": {},
   "outputs": [],
   "source": [
    "# Let's generate recommendation based on those similarity score of movies\n",
    "\n",
    "# first create a list of titles\n",
    "titles = movies['title']\n",
    "\n",
    "# Create a series as key and value with key being movies title and value being it's indices\n",
    "indices = pd.Series(movies.index,index=movies['title'])\n",
    "\n",
    "# creating the recommendation function\n",
    "def movie_recommendation(title):\n",
    "    #gets the index of the recieved title\n",
    "    index = indices[title]\n",
    "    #gets the similarity scores for the movies similar to the one at the index \n",
    "    sim_scores = list(enumerate(cosine_sim[index]))\n",
    "    # sorts the score in descending order\n",
    "    sim_scores = sorted(sim_scores, key=lambda x: x[1], reverse=True)\n",
    "    # stores top 20 score\n",
    "    sim_scores = sim_scores[1:21]\n",
    "    # store the indices of the top 20 score\n",
    "    movie_indices = [i[0] for i in sim_scores]\n",
    "    # return the list of movies on that indices\n",
    "    return titles.iloc[movie_indices]"
   ]
  },
  {
   "cell_type": "code",
   "execution_count": null,
   "metadata": {},
   "outputs": [],
   "source": [
    "movie_recommendations('Toy Story (1995)').head(20)"
   ]
  }
 ],
 "metadata": {
  "kernelspec": {
   "display_name": "Python 2",
   "language": "python",
   "name": "python2"
  },
  "language_info": {
   "codemirror_mode": {
    "name": "ipython",
    "version": 2
   },
   "file_extension": ".py",
   "mimetype": "text/x-python",
   "name": "python",
   "nbconvert_exporter": "python",
   "pygments_lexer": "ipython2",
   "version": "2.7.15rc1"
  }
 },
 "nbformat": 4,
 "nbformat_minor": 2
}
